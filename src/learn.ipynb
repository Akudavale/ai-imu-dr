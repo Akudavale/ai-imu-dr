{
 "cells": [
  {
   "cell_type": "code",
   "execution_count": 7,
   "metadata": {},
   "outputs": [
    {
     "name": "stdout",
     "output_type": "stream",
     "text": [
      "tensor([[1.]], dtype=torch.float64)\n"
     ]
    }
   ],
   "source": [
    "import torch\n",
    "Id1 = torch.eye(1).double()\n",
    "print(Id1)"
   ]
  },
  {
   "cell_type": "code",
   "execution_count": 5,
   "metadata": {},
   "outputs": [
    {
     "data": {
      "text/plain": [
       "2"
      ]
     },
     "execution_count": 5,
     "metadata": {},
     "output_type": "execute_result"
    }
   ],
   "source": [
    "Id1.ndim"
   ]
  },
  {
   "cell_type": "code",
   "execution_count": 130,
   "metadata": {},
   "outputs": [],
   "source": [
    "class MesNet(torch.nn.Module):\n",
    "        def __init__(self):\n",
    "            super(MesNet, self).__init__()\n",
    "            self.beta_measurement = 3*torch.ones(2)\n",
    "            self.tanh = torch.nn.Tanh()\n",
    "\n",
    "            self.cov_net = torch.nn.Sequential(torch.nn.Conv1d(1, 5, 1),\n",
    "                       torch.nn.ReplicationPad1d(4),\n",
    "                       torch.nn.ReLU(),\n",
    "                       torch.nn.Dropout(p=0.5),\n",
    "                       torch.nn.Conv1d(5, 1, 1, dilation=3),\n",
    "                       torch.nn.ReplicationPad1d(4),\n",
    "                       torch.nn.ReLU(),\n",
    "                       torch.nn.Dropout(p=0.5),\n",
    "                       )\n",
    "            \"CNN for measurement covariance\"\n",
    "            self.cov_lin = torch.nn.Sequential(torch.nn.Linear(19,1),\n",
    "                                              torch.nn.Tanh(),\n",
    "                                              )\n",
    "            self.cov_lin[0].bias.data[:] /= 100\n",
    "            self.cov_lin[0].weight.data[:] /= 100\n",
    "\n",
    "        def forward(self, u):\n",
    "            y_cov = self.cov_net(u)\n",
    "            z_cov = self.cov_lin(y_cov)\n",
    "            z_cov_net = self.beta_measurement.squeeze(0)*z_cov\n",
    "            #measurements_covs = (iekf.cov0_measurement.unsqueeze(0) * (10**z_cov_net))\n",
    "            return z_cov_net"
   ]
  },
  {
   "cell_type": "code",
   "execution_count": 131,
   "metadata": {},
   "outputs": [],
   "source": [
    "model = MesNet()"
   ]
  },
  {
   "cell_type": "code",
   "execution_count": 132,
   "metadata": {},
   "outputs": [],
   "source": [
    "input_data = torch.tensor([[6, 6, 2]], dtype=torch.float32, requires_grad=True)\n",
    "\n",
    "# Perform a forward pass through the model\n",
    "output = model(input_data)"
   ]
  },
  {
   "cell_type": "code",
   "execution_count": 133,
   "metadata": {},
   "outputs": [
    {
     "data": {
      "text/plain": [
       "tensor([[-0.0176, -0.0176]], grad_fn=<MulBackward0>)"
      ]
     },
     "execution_count": 133,
     "metadata": {},
     "output_type": "execute_result"
    }
   ],
   "source": [
    "output"
   ]
  },
  {
   "cell_type": "code",
   "execution_count": 5,
   "metadata": {},
   "outputs": [
    {
     "name": "stdout",
     "output_type": "stream",
     "text": [
      "1\n",
      "2\n",
      "2.1\n",
      "['C:\\\\Users\\\\HP\\\\Desktop\\\\rawdata1\\\\2011_09_26\\\\2011_09_26_drive_0001_sync\\\\oxts\\\\data\\\\0000000000.txt', 'C:\\\\Users\\\\HP\\\\Desktop\\\\rawdata1\\\\2011_09_26\\\\2011_09_26_drive_0001_sync\\\\oxts\\\\data\\\\0000000001.txt', 'C:\\\\Users\\\\HP\\\\Desktop\\\\rawdata1\\\\2011_09_26\\\\2011_09_26_drive_0001_sync\\\\oxts\\\\data\\\\0000000002.txt', 'C:\\\\Users\\\\HP\\\\Desktop\\\\rawdata1\\\\2011_09_26\\\\2011_09_26_drive_0001_sync\\\\oxts\\\\data\\\\0000000003.txt', 'C:\\\\Users\\\\HP\\\\Desktop\\\\rawdata1\\\\2011_09_26\\\\2011_09_26_drive_0001_sync\\\\oxts\\\\data\\\\0000000004.txt', 'C:\\\\Users\\\\HP\\\\Desktop\\\\rawdata1\\\\2011_09_26\\\\2011_09_26_drive_0001_sync\\\\oxts\\\\data\\\\0000000005.txt', 'C:\\\\Users\\\\HP\\\\Desktop\\\\rawdata1\\\\2011_09_26\\\\2011_09_26_drive_0001_sync\\\\oxts\\\\data\\\\0000000006.txt', 'C:\\\\Users\\\\HP\\\\Desktop\\\\rawdata1\\\\2011_09_26\\\\2011_09_26_drive_0001_sync\\\\oxts\\\\data\\\\0000000007.txt', 'C:\\\\Users\\\\HP\\\\Desktop\\\\rawdata1\\\\2011_09_26\\\\2011_09_26_drive_0001_sync\\\\oxts\\\\data\\\\0000000008.txt', 'C:\\\\Users\\\\HP\\\\Desktop\\\\rawdata1\\\\2011_09_26\\\\2011_09_26_drive_0001_sync\\\\oxts\\\\data\\\\0000000009.txt', 'C:\\\\Users\\\\HP\\\\Desktop\\\\rawdata1\\\\2011_09_26\\\\2011_09_26_drive_0001_sync\\\\oxts\\\\data\\\\0000000010.txt', 'C:\\\\Users\\\\HP\\\\Desktop\\\\rawdata1\\\\2011_09_26\\\\2011_09_26_drive_0001_sync\\\\oxts\\\\data\\\\0000000011.txt', 'C:\\\\Users\\\\HP\\\\Desktop\\\\rawdata1\\\\2011_09_26\\\\2011_09_26_drive_0001_sync\\\\oxts\\\\data\\\\0000000012.txt', 'C:\\\\Users\\\\HP\\\\Desktop\\\\rawdata1\\\\2011_09_26\\\\2011_09_26_drive_0001_sync\\\\oxts\\\\data\\\\0000000013.txt', 'C:\\\\Users\\\\HP\\\\Desktop\\\\rawdata1\\\\2011_09_26\\\\2011_09_26_drive_0001_sync\\\\oxts\\\\data\\\\0000000014.txt', 'C:\\\\Users\\\\HP\\\\Desktop\\\\rawdata1\\\\2011_09_26\\\\2011_09_26_drive_0001_sync\\\\oxts\\\\data\\\\0000000015.txt', 'C:\\\\Users\\\\HP\\\\Desktop\\\\rawdata1\\\\2011_09_26\\\\2011_09_26_drive_0001_sync\\\\oxts\\\\data\\\\0000000016.txt', 'C:\\\\Users\\\\HP\\\\Desktop\\\\rawdata1\\\\2011_09_26\\\\2011_09_26_drive_0001_sync\\\\oxts\\\\data\\\\0000000017.txt', 'C:\\\\Users\\\\HP\\\\Desktop\\\\rawdata1\\\\2011_09_26\\\\2011_09_26_drive_0001_sync\\\\oxts\\\\data\\\\0000000018.txt', 'C:\\\\Users\\\\HP\\\\Desktop\\\\rawdata1\\\\2011_09_26\\\\2011_09_26_drive_0001_sync\\\\oxts\\\\data\\\\0000000019.txt', 'C:\\\\Users\\\\HP\\\\Desktop\\\\rawdata1\\\\2011_09_26\\\\2011_09_26_drive_0001_sync\\\\oxts\\\\data\\\\0000000020.txt', 'C:\\\\Users\\\\HP\\\\Desktop\\\\rawdata1\\\\2011_09_26\\\\2011_09_26_drive_0001_sync\\\\oxts\\\\data\\\\0000000021.txt', 'C:\\\\Users\\\\HP\\\\Desktop\\\\rawdata1\\\\2011_09_26\\\\2011_09_26_drive_0001_sync\\\\oxts\\\\data\\\\0000000022.txt', 'C:\\\\Users\\\\HP\\\\Desktop\\\\rawdata1\\\\2011_09_26\\\\2011_09_26_drive_0001_sync\\\\oxts\\\\data\\\\0000000023.txt', 'C:\\\\Users\\\\HP\\\\Desktop\\\\rawdata1\\\\2011_09_26\\\\2011_09_26_drive_0001_sync\\\\oxts\\\\data\\\\0000000024.txt', 'C:\\\\Users\\\\HP\\\\Desktop\\\\rawdata1\\\\2011_09_26\\\\2011_09_26_drive_0001_sync\\\\oxts\\\\data\\\\0000000025.txt', 'C:\\\\Users\\\\HP\\\\Desktop\\\\rawdata1\\\\2011_09_26\\\\2011_09_26_drive_0001_sync\\\\oxts\\\\data\\\\0000000026.txt', 'C:\\\\Users\\\\HP\\\\Desktop\\\\rawdata1\\\\2011_09_26\\\\2011_09_26_drive_0001_sync\\\\oxts\\\\data\\\\0000000027.txt', 'C:\\\\Users\\\\HP\\\\Desktop\\\\rawdata1\\\\2011_09_26\\\\2011_09_26_drive_0001_sync\\\\oxts\\\\data\\\\0000000028.txt', 'C:\\\\Users\\\\HP\\\\Desktop\\\\rawdata1\\\\2011_09_26\\\\2011_09_26_drive_0001_sync\\\\oxts\\\\data\\\\0000000029.txt', 'C:\\\\Users\\\\HP\\\\Desktop\\\\rawdata1\\\\2011_09_26\\\\2011_09_26_drive_0001_sync\\\\oxts\\\\data\\\\0000000030.txt', 'C:\\\\Users\\\\HP\\\\Desktop\\\\rawdata1\\\\2011_09_26\\\\2011_09_26_drive_0001_sync\\\\oxts\\\\data\\\\0000000031.txt', 'C:\\\\Users\\\\HP\\\\Desktop\\\\rawdata1\\\\2011_09_26\\\\2011_09_26_drive_0001_sync\\\\oxts\\\\data\\\\0000000032.txt', 'C:\\\\Users\\\\HP\\\\Desktop\\\\rawdata1\\\\2011_09_26\\\\2011_09_26_drive_0001_sync\\\\oxts\\\\data\\\\0000000033.txt', 'C:\\\\Users\\\\HP\\\\Desktop\\\\rawdata1\\\\2011_09_26\\\\2011_09_26_drive_0001_sync\\\\oxts\\\\data\\\\0000000034.txt', 'C:\\\\Users\\\\HP\\\\Desktop\\\\rawdata1\\\\2011_09_26\\\\2011_09_26_drive_0001_sync\\\\oxts\\\\data\\\\0000000035.txt', 'C:\\\\Users\\\\HP\\\\Desktop\\\\rawdata1\\\\2011_09_26\\\\2011_09_26_drive_0001_sync\\\\oxts\\\\data\\\\0000000036.txt', 'C:\\\\Users\\\\HP\\\\Desktop\\\\rawdata1\\\\2011_09_26\\\\2011_09_26_drive_0001_sync\\\\oxts\\\\data\\\\0000000037.txt', 'C:\\\\Users\\\\HP\\\\Desktop\\\\rawdata1\\\\2011_09_26\\\\2011_09_26_drive_0001_sync\\\\oxts\\\\data\\\\0000000038.txt', 'C:\\\\Users\\\\HP\\\\Desktop\\\\rawdata1\\\\2011_09_26\\\\2011_09_26_drive_0001_sync\\\\oxts\\\\data\\\\0000000039.txt', 'C:\\\\Users\\\\HP\\\\Desktop\\\\rawdata1\\\\2011_09_26\\\\2011_09_26_drive_0001_sync\\\\oxts\\\\data\\\\0000000040.txt', 'C:\\\\Users\\\\HP\\\\Desktop\\\\rawdata1\\\\2011_09_26\\\\2011_09_26_drive_0001_sync\\\\oxts\\\\data\\\\0000000041.txt', 'C:\\\\Users\\\\HP\\\\Desktop\\\\rawdata1\\\\2011_09_26\\\\2011_09_26_drive_0001_sync\\\\oxts\\\\data\\\\0000000042.txt', 'C:\\\\Users\\\\HP\\\\Desktop\\\\rawdata1\\\\2011_09_26\\\\2011_09_26_drive_0001_sync\\\\oxts\\\\data\\\\0000000043.txt', 'C:\\\\Users\\\\HP\\\\Desktop\\\\rawdata1\\\\2011_09_26\\\\2011_09_26_drive_0001_sync\\\\oxts\\\\data\\\\0000000044.txt', 'C:\\\\Users\\\\HP\\\\Desktop\\\\rawdata1\\\\2011_09_26\\\\2011_09_26_drive_0001_sync\\\\oxts\\\\data\\\\0000000045.txt', 'C:\\\\Users\\\\HP\\\\Desktop\\\\rawdata1\\\\2011_09_26\\\\2011_09_26_drive_0001_sync\\\\oxts\\\\data\\\\0000000046.txt', 'C:\\\\Users\\\\HP\\\\Desktop\\\\rawdata1\\\\2011_09_26\\\\2011_09_26_drive_0001_sync\\\\oxts\\\\data\\\\0000000047.txt', 'C:\\\\Users\\\\HP\\\\Desktop\\\\rawdata1\\\\2011_09_26\\\\2011_09_26_drive_0001_sync\\\\oxts\\\\data\\\\0000000048.txt', 'C:\\\\Users\\\\HP\\\\Desktop\\\\rawdata1\\\\2011_09_26\\\\2011_09_26_drive_0001_sync\\\\oxts\\\\data\\\\0000000049.txt', 'C:\\\\Users\\\\HP\\\\Desktop\\\\rawdata1\\\\2011_09_26\\\\2011_09_26_drive_0001_sync\\\\oxts\\\\data\\\\0000000050.txt', 'C:\\\\Users\\\\HP\\\\Desktop\\\\rawdata1\\\\2011_09_26\\\\2011_09_26_drive_0001_sync\\\\oxts\\\\data\\\\0000000051.txt', 'C:\\\\Users\\\\HP\\\\Desktop\\\\rawdata1\\\\2011_09_26\\\\2011_09_26_drive_0001_sync\\\\oxts\\\\data\\\\0000000052.txt', 'C:\\\\Users\\\\HP\\\\Desktop\\\\rawdata1\\\\2011_09_26\\\\2011_09_26_drive_0001_sync\\\\oxts\\\\data\\\\0000000053.txt', 'C:\\\\Users\\\\HP\\\\Desktop\\\\rawdata1\\\\2011_09_26\\\\2011_09_26_drive_0001_sync\\\\oxts\\\\data\\\\0000000054.txt', 'C:\\\\Users\\\\HP\\\\Desktop\\\\rawdata1\\\\2011_09_26\\\\2011_09_26_drive_0001_sync\\\\oxts\\\\data\\\\0000000055.txt', 'C:\\\\Users\\\\HP\\\\Desktop\\\\rawdata1\\\\2011_09_26\\\\2011_09_26_drive_0001_sync\\\\oxts\\\\data\\\\0000000056.txt', 'C:\\\\Users\\\\HP\\\\Desktop\\\\rawdata1\\\\2011_09_26\\\\2011_09_26_drive_0001_sync\\\\oxts\\\\data\\\\0000000057.txt', 'C:\\\\Users\\\\HP\\\\Desktop\\\\rawdata1\\\\2011_09_26\\\\2011_09_26_drive_0001_sync\\\\oxts\\\\data\\\\0000000058.txt', 'C:\\\\Users\\\\HP\\\\Desktop\\\\rawdata1\\\\2011_09_26\\\\2011_09_26_drive_0001_sync\\\\oxts\\\\data\\\\0000000059.txt', 'C:\\\\Users\\\\HP\\\\Desktop\\\\rawdata1\\\\2011_09_26\\\\2011_09_26_drive_0001_sync\\\\oxts\\\\data\\\\0000000060.txt', 'C:\\\\Users\\\\HP\\\\Desktop\\\\rawdata1\\\\2011_09_26\\\\2011_09_26_drive_0001_sync\\\\oxts\\\\data\\\\0000000061.txt', 'C:\\\\Users\\\\HP\\\\Desktop\\\\rawdata1\\\\2011_09_26\\\\2011_09_26_drive_0001_sync\\\\oxts\\\\data\\\\0000000062.txt', 'C:\\\\Users\\\\HP\\\\Desktop\\\\rawdata1\\\\2011_09_26\\\\2011_09_26_drive_0001_sync\\\\oxts\\\\data\\\\0000000063.txt', 'C:\\\\Users\\\\HP\\\\Desktop\\\\rawdata1\\\\2011_09_26\\\\2011_09_26_drive_0001_sync\\\\oxts\\\\data\\\\0000000064.txt', 'C:\\\\Users\\\\HP\\\\Desktop\\\\rawdata1\\\\2011_09_26\\\\2011_09_26_drive_0001_sync\\\\oxts\\\\data\\\\0000000065.txt', 'C:\\\\Users\\\\HP\\\\Desktop\\\\rawdata1\\\\2011_09_26\\\\2011_09_26_drive_0001_sync\\\\oxts\\\\data\\\\0000000066.txt', 'C:\\\\Users\\\\HP\\\\Desktop\\\\rawdata1\\\\2011_09_26\\\\2011_09_26_drive_0001_sync\\\\oxts\\\\data\\\\0000000067.txt', 'C:\\\\Users\\\\HP\\\\Desktop\\\\rawdata1\\\\2011_09_26\\\\2011_09_26_drive_0001_sync\\\\oxts\\\\data\\\\0000000068.txt', 'C:\\\\Users\\\\HP\\\\Desktop\\\\rawdata1\\\\2011_09_26\\\\2011_09_26_drive_0001_sync\\\\oxts\\\\data\\\\0000000069.txt', 'C:\\\\Users\\\\HP\\\\Desktop\\\\rawdata1\\\\2011_09_26\\\\2011_09_26_drive_0001_sync\\\\oxts\\\\data\\\\0000000070.txt', 'C:\\\\Users\\\\HP\\\\Desktop\\\\rawdata1\\\\2011_09_26\\\\2011_09_26_drive_0001_sync\\\\oxts\\\\data\\\\0000000071.txt', 'C:\\\\Users\\\\HP\\\\Desktop\\\\rawdata1\\\\2011_09_26\\\\2011_09_26_drive_0001_sync\\\\oxts\\\\data\\\\0000000072.txt', 'C:\\\\Users\\\\HP\\\\Desktop\\\\rawdata1\\\\2011_09_26\\\\2011_09_26_drive_0001_sync\\\\oxts\\\\data\\\\0000000073.txt', 'C:\\\\Users\\\\HP\\\\Desktop\\\\rawdata1\\\\2011_09_26\\\\2011_09_26_drive_0001_sync\\\\oxts\\\\data\\\\0000000074.txt', 'C:\\\\Users\\\\HP\\\\Desktop\\\\rawdata1\\\\2011_09_26\\\\2011_09_26_drive_0001_sync\\\\oxts\\\\data\\\\0000000075.txt', 'C:\\\\Users\\\\HP\\\\Desktop\\\\rawdata1\\\\2011_09_26\\\\2011_09_26_drive_0001_sync\\\\oxts\\\\data\\\\0000000076.txt', 'C:\\\\Users\\\\HP\\\\Desktop\\\\rawdata1\\\\2011_09_26\\\\2011_09_26_drive_0001_sync\\\\oxts\\\\data\\\\0000000077.txt', 'C:\\\\Users\\\\HP\\\\Desktop\\\\rawdata1\\\\2011_09_26\\\\2011_09_26_drive_0001_sync\\\\oxts\\\\data\\\\0000000078.txt', 'C:\\\\Users\\\\HP\\\\Desktop\\\\rawdata1\\\\2011_09_26\\\\2011_09_26_drive_0001_sync\\\\oxts\\\\data\\\\0000000079.txt', 'C:\\\\Users\\\\HP\\\\Desktop\\\\rawdata1\\\\2011_09_26\\\\2011_09_26_drive_0001_sync\\\\oxts\\\\data\\\\0000000080.txt', 'C:\\\\Users\\\\HP\\\\Desktop\\\\rawdata1\\\\2011_09_26\\\\2011_09_26_drive_0001_sync\\\\oxts\\\\data\\\\0000000081.txt', 'C:\\\\Users\\\\HP\\\\Desktop\\\\rawdata1\\\\2011_09_26\\\\2011_09_26_drive_0001_sync\\\\oxts\\\\data\\\\0000000082.txt', 'C:\\\\Users\\\\HP\\\\Desktop\\\\rawdata1\\\\2011_09_26\\\\2011_09_26_drive_0001_sync\\\\oxts\\\\data\\\\0000000083.txt', 'C:\\\\Users\\\\HP\\\\Desktop\\\\rawdata1\\\\2011_09_26\\\\2011_09_26_drive_0001_sync\\\\oxts\\\\data\\\\0000000084.txt', 'C:\\\\Users\\\\HP\\\\Desktop\\\\rawdata1\\\\2011_09_26\\\\2011_09_26_drive_0001_sync\\\\oxts\\\\data\\\\0000000085.txt', 'C:\\\\Users\\\\HP\\\\Desktop\\\\rawdata1\\\\2011_09_26\\\\2011_09_26_drive_0001_sync\\\\oxts\\\\data\\\\0000000086.txt', 'C:\\\\Users\\\\HP\\\\Desktop\\\\rawdata1\\\\2011_09_26\\\\2011_09_26_drive_0001_sync\\\\oxts\\\\data\\\\0000000087.txt', 'C:\\\\Users\\\\HP\\\\Desktop\\\\rawdata1\\\\2011_09_26\\\\2011_09_26_drive_0001_sync\\\\oxts\\\\data\\\\0000000088.txt', 'C:\\\\Users\\\\HP\\\\Desktop\\\\rawdata1\\\\2011_09_26\\\\2011_09_26_drive_0001_sync\\\\oxts\\\\data\\\\0000000089.txt', 'C:\\\\Users\\\\HP\\\\Desktop\\\\rawdata1\\\\2011_09_26\\\\2011_09_26_drive_0001_sync\\\\oxts\\\\data\\\\0000000090.txt', 'C:\\\\Users\\\\HP\\\\Desktop\\\\rawdata1\\\\2011_09_26\\\\2011_09_26_drive_0001_sync\\\\oxts\\\\data\\\\0000000091.txt', 'C:\\\\Users\\\\HP\\\\Desktop\\\\rawdata1\\\\2011_09_26\\\\2011_09_26_drive_0001_sync\\\\oxts\\\\data\\\\0000000092.txt', 'C:\\\\Users\\\\HP\\\\Desktop\\\\rawdata1\\\\2011_09_26\\\\2011_09_26_drive_0001_sync\\\\oxts\\\\data\\\\0000000093.txt', 'C:\\\\Users\\\\HP\\\\Desktop\\\\rawdata1\\\\2011_09_26\\\\2011_09_26_drive_0001_sync\\\\oxts\\\\data\\\\0000000094.txt', 'C:\\\\Users\\\\HP\\\\Desktop\\\\rawdata1\\\\2011_09_26\\\\2011_09_26_drive_0001_sync\\\\oxts\\\\data\\\\0000000095.txt', 'C:\\\\Users\\\\HP\\\\Desktop\\\\rawdata1\\\\2011_09_26\\\\2011_09_26_drive_0001_sync\\\\oxts\\\\data\\\\0000000096.txt', 'C:\\\\Users\\\\HP\\\\Desktop\\\\rawdata1\\\\2011_09_26\\\\2011_09_26_drive_0001_sync\\\\oxts\\\\data\\\\0000000097.txt', 'C:\\\\Users\\\\HP\\\\Desktop\\\\rawdata1\\\\2011_09_26\\\\2011_09_26_drive_0001_sync\\\\oxts\\\\data\\\\0000000098.txt', 'C:\\\\Users\\\\HP\\\\Desktop\\\\rawdata1\\\\2011_09_26\\\\2011_09_26_drive_0001_sync\\\\oxts\\\\data\\\\0000000099.txt', 'C:\\\\Users\\\\HP\\\\Desktop\\\\rawdata1\\\\2011_09_26\\\\2011_09_26_drive_0001_sync\\\\oxts\\\\data\\\\0000000100.txt', 'C:\\\\Users\\\\HP\\\\Desktop\\\\rawdata1\\\\2011_09_26\\\\2011_09_26_drive_0001_sync\\\\oxts\\\\data\\\\0000000101.txt', 'C:\\\\Users\\\\HP\\\\Desktop\\\\rawdata1\\\\2011_09_26\\\\2011_09_26_drive_0001_sync\\\\oxts\\\\data\\\\0000000102.txt', 'C:\\\\Users\\\\HP\\\\Desktop\\\\rawdata1\\\\2011_09_26\\\\2011_09_26_drive_0001_sync\\\\oxts\\\\data\\\\0000000103.txt', 'C:\\\\Users\\\\HP\\\\Desktop\\\\rawdata1\\\\2011_09_26\\\\2011_09_26_drive_0001_sync\\\\oxts\\\\data\\\\0000000104.txt', 'C:\\\\Users\\\\HP\\\\Desktop\\\\rawdata1\\\\2011_09_26\\\\2011_09_26_drive_0001_sync\\\\oxts\\\\data\\\\0000000105.txt', 'C:\\\\Users\\\\HP\\\\Desktop\\\\rawdata1\\\\2011_09_26\\\\2011_09_26_drive_0001_sync\\\\oxts\\\\data\\\\0000000106.txt', 'C:\\\\Users\\\\HP\\\\Desktop\\\\rawdata1\\\\2011_09_26\\\\2011_09_26_drive_0001_sync\\\\oxts\\\\data\\\\0000000107.txt']\n",
      "2.1\n",
      "['C:\\\\Users\\\\HP\\\\Desktop\\\\rawdata1\\\\2011_09_26\\\\2011_09_26_drive_0002_sync\\\\oxts\\\\data\\\\0000000000.txt', 'C:\\\\Users\\\\HP\\\\Desktop\\\\rawdata1\\\\2011_09_26\\\\2011_09_26_drive_0002_sync\\\\oxts\\\\data\\\\0000000001.txt', 'C:\\\\Users\\\\HP\\\\Desktop\\\\rawdata1\\\\2011_09_26\\\\2011_09_26_drive_0002_sync\\\\oxts\\\\data\\\\0000000002.txt', 'C:\\\\Users\\\\HP\\\\Desktop\\\\rawdata1\\\\2011_09_26\\\\2011_09_26_drive_0002_sync\\\\oxts\\\\data\\\\0000000003.txt', 'C:\\\\Users\\\\HP\\\\Desktop\\\\rawdata1\\\\2011_09_26\\\\2011_09_26_drive_0002_sync\\\\oxts\\\\data\\\\0000000004.txt', 'C:\\\\Users\\\\HP\\\\Desktop\\\\rawdata1\\\\2011_09_26\\\\2011_09_26_drive_0002_sync\\\\oxts\\\\data\\\\0000000005.txt', 'C:\\\\Users\\\\HP\\\\Desktop\\\\rawdata1\\\\2011_09_26\\\\2011_09_26_drive_0002_sync\\\\oxts\\\\data\\\\0000000006.txt', 'C:\\\\Users\\\\HP\\\\Desktop\\\\rawdata1\\\\2011_09_26\\\\2011_09_26_drive_0002_sync\\\\oxts\\\\data\\\\0000000007.txt', 'C:\\\\Users\\\\HP\\\\Desktop\\\\rawdata1\\\\2011_09_26\\\\2011_09_26_drive_0002_sync\\\\oxts\\\\data\\\\0000000008.txt', 'C:\\\\Users\\\\HP\\\\Desktop\\\\rawdata1\\\\2011_09_26\\\\2011_09_26_drive_0002_sync\\\\oxts\\\\data\\\\0000000009.txt', 'C:\\\\Users\\\\HP\\\\Desktop\\\\rawdata1\\\\2011_09_26\\\\2011_09_26_drive_0002_sync\\\\oxts\\\\data\\\\0000000010.txt', 'C:\\\\Users\\\\HP\\\\Desktop\\\\rawdata1\\\\2011_09_26\\\\2011_09_26_drive_0002_sync\\\\oxts\\\\data\\\\0000000011.txt', 'C:\\\\Users\\\\HP\\\\Desktop\\\\rawdata1\\\\2011_09_26\\\\2011_09_26_drive_0002_sync\\\\oxts\\\\data\\\\0000000012.txt', 'C:\\\\Users\\\\HP\\\\Desktop\\\\rawdata1\\\\2011_09_26\\\\2011_09_26_drive_0002_sync\\\\oxts\\\\data\\\\0000000013.txt', 'C:\\\\Users\\\\HP\\\\Desktop\\\\rawdata1\\\\2011_09_26\\\\2011_09_26_drive_0002_sync\\\\oxts\\\\data\\\\0000000014.txt', 'C:\\\\Users\\\\HP\\\\Desktop\\\\rawdata1\\\\2011_09_26\\\\2011_09_26_drive_0002_sync\\\\oxts\\\\data\\\\0000000015.txt', 'C:\\\\Users\\\\HP\\\\Desktop\\\\rawdata1\\\\2011_09_26\\\\2011_09_26_drive_0002_sync\\\\oxts\\\\data\\\\0000000016.txt', 'C:\\\\Users\\\\HP\\\\Desktop\\\\rawdata1\\\\2011_09_26\\\\2011_09_26_drive_0002_sync\\\\oxts\\\\data\\\\0000000017.txt', 'C:\\\\Users\\\\HP\\\\Desktop\\\\rawdata1\\\\2011_09_26\\\\2011_09_26_drive_0002_sync\\\\oxts\\\\data\\\\0000000018.txt', 'C:\\\\Users\\\\HP\\\\Desktop\\\\rawdata1\\\\2011_09_26\\\\2011_09_26_drive_0002_sync\\\\oxts\\\\data\\\\0000000019.txt', 'C:\\\\Users\\\\HP\\\\Desktop\\\\rawdata1\\\\2011_09_26\\\\2011_09_26_drive_0002_sync\\\\oxts\\\\data\\\\0000000020.txt', 'C:\\\\Users\\\\HP\\\\Desktop\\\\rawdata1\\\\2011_09_26\\\\2011_09_26_drive_0002_sync\\\\oxts\\\\data\\\\0000000021.txt', 'C:\\\\Users\\\\HP\\\\Desktop\\\\rawdata1\\\\2011_09_26\\\\2011_09_26_drive_0002_sync\\\\oxts\\\\data\\\\0000000022.txt', 'C:\\\\Users\\\\HP\\\\Desktop\\\\rawdata1\\\\2011_09_26\\\\2011_09_26_drive_0002_sync\\\\oxts\\\\data\\\\0000000023.txt', 'C:\\\\Users\\\\HP\\\\Desktop\\\\rawdata1\\\\2011_09_26\\\\2011_09_26_drive_0002_sync\\\\oxts\\\\data\\\\0000000024.txt', 'C:\\\\Users\\\\HP\\\\Desktop\\\\rawdata1\\\\2011_09_26\\\\2011_09_26_drive_0002_sync\\\\oxts\\\\data\\\\0000000025.txt', 'C:\\\\Users\\\\HP\\\\Desktop\\\\rawdata1\\\\2011_09_26\\\\2011_09_26_drive_0002_sync\\\\oxts\\\\data\\\\0000000026.txt', 'C:\\\\Users\\\\HP\\\\Desktop\\\\rawdata1\\\\2011_09_26\\\\2011_09_26_drive_0002_sync\\\\oxts\\\\data\\\\0000000027.txt', 'C:\\\\Users\\\\HP\\\\Desktop\\\\rawdata1\\\\2011_09_26\\\\2011_09_26_drive_0002_sync\\\\oxts\\\\data\\\\0000000028.txt', 'C:\\\\Users\\\\HP\\\\Desktop\\\\rawdata1\\\\2011_09_26\\\\2011_09_26_drive_0002_sync\\\\oxts\\\\data\\\\0000000029.txt', 'C:\\\\Users\\\\HP\\\\Desktop\\\\rawdata1\\\\2011_09_26\\\\2011_09_26_drive_0002_sync\\\\oxts\\\\data\\\\0000000030.txt', 'C:\\\\Users\\\\HP\\\\Desktop\\\\rawdata1\\\\2011_09_26\\\\2011_09_26_drive_0002_sync\\\\oxts\\\\data\\\\0000000031.txt', 'C:\\\\Users\\\\HP\\\\Desktop\\\\rawdata1\\\\2011_09_26\\\\2011_09_26_drive_0002_sync\\\\oxts\\\\data\\\\0000000032.txt', 'C:\\\\Users\\\\HP\\\\Desktop\\\\rawdata1\\\\2011_09_26\\\\2011_09_26_drive_0002_sync\\\\oxts\\\\data\\\\0000000033.txt', 'C:\\\\Users\\\\HP\\\\Desktop\\\\rawdata1\\\\2011_09_26\\\\2011_09_26_drive_0002_sync\\\\oxts\\\\data\\\\0000000034.txt', 'C:\\\\Users\\\\HP\\\\Desktop\\\\rawdata1\\\\2011_09_26\\\\2011_09_26_drive_0002_sync\\\\oxts\\\\data\\\\0000000035.txt', 'C:\\\\Users\\\\HP\\\\Desktop\\\\rawdata1\\\\2011_09_26\\\\2011_09_26_drive_0002_sync\\\\oxts\\\\data\\\\0000000036.txt', 'C:\\\\Users\\\\HP\\\\Desktop\\\\rawdata1\\\\2011_09_26\\\\2011_09_26_drive_0002_sync\\\\oxts\\\\data\\\\0000000037.txt', 'C:\\\\Users\\\\HP\\\\Desktop\\\\rawdata1\\\\2011_09_26\\\\2011_09_26_drive_0002_sync\\\\oxts\\\\data\\\\0000000038.txt', 'C:\\\\Users\\\\HP\\\\Desktop\\\\rawdata1\\\\2011_09_26\\\\2011_09_26_drive_0002_sync\\\\oxts\\\\data\\\\0000000039.txt', 'C:\\\\Users\\\\HP\\\\Desktop\\\\rawdata1\\\\2011_09_26\\\\2011_09_26_drive_0002_sync\\\\oxts\\\\data\\\\0000000040.txt', 'C:\\\\Users\\\\HP\\\\Desktop\\\\rawdata1\\\\2011_09_26\\\\2011_09_26_drive_0002_sync\\\\oxts\\\\data\\\\0000000041.txt', 'C:\\\\Users\\\\HP\\\\Desktop\\\\rawdata1\\\\2011_09_26\\\\2011_09_26_drive_0002_sync\\\\oxts\\\\data\\\\0000000042.txt', 'C:\\\\Users\\\\HP\\\\Desktop\\\\rawdata1\\\\2011_09_26\\\\2011_09_26_drive_0002_sync\\\\oxts\\\\data\\\\0000000043.txt', 'C:\\\\Users\\\\HP\\\\Desktop\\\\rawdata1\\\\2011_09_26\\\\2011_09_26_drive_0002_sync\\\\oxts\\\\data\\\\0000000044.txt', 'C:\\\\Users\\\\HP\\\\Desktop\\\\rawdata1\\\\2011_09_26\\\\2011_09_26_drive_0002_sync\\\\oxts\\\\data\\\\0000000045.txt', 'C:\\\\Users\\\\HP\\\\Desktop\\\\rawdata1\\\\2011_09_26\\\\2011_09_26_drive_0002_sync\\\\oxts\\\\data\\\\0000000046.txt', 'C:\\\\Users\\\\HP\\\\Desktop\\\\rawdata1\\\\2011_09_26\\\\2011_09_26_drive_0002_sync\\\\oxts\\\\data\\\\0000000047.txt', 'C:\\\\Users\\\\HP\\\\Desktop\\\\rawdata1\\\\2011_09_26\\\\2011_09_26_drive_0002_sync\\\\oxts\\\\data\\\\0000000048.txt', 'C:\\\\Users\\\\HP\\\\Desktop\\\\rawdata1\\\\2011_09_26\\\\2011_09_26_drive_0002_sync\\\\oxts\\\\data\\\\0000000049.txt', 'C:\\\\Users\\\\HP\\\\Desktop\\\\rawdata1\\\\2011_09_26\\\\2011_09_26_drive_0002_sync\\\\oxts\\\\data\\\\0000000050.txt', 'C:\\\\Users\\\\HP\\\\Desktop\\\\rawdata1\\\\2011_09_26\\\\2011_09_26_drive_0002_sync\\\\oxts\\\\data\\\\0000000051.txt', 'C:\\\\Users\\\\HP\\\\Desktop\\\\rawdata1\\\\2011_09_26\\\\2011_09_26_drive_0002_sync\\\\oxts\\\\data\\\\0000000052.txt', 'C:\\\\Users\\\\HP\\\\Desktop\\\\rawdata1\\\\2011_09_26\\\\2011_09_26_drive_0002_sync\\\\oxts\\\\data\\\\0000000053.txt', 'C:\\\\Users\\\\HP\\\\Desktop\\\\rawdata1\\\\2011_09_26\\\\2011_09_26_drive_0002_sync\\\\oxts\\\\data\\\\0000000054.txt', 'C:\\\\Users\\\\HP\\\\Desktop\\\\rawdata1\\\\2011_09_26\\\\2011_09_26_drive_0002_sync\\\\oxts\\\\data\\\\0000000055.txt', 'C:\\\\Users\\\\HP\\\\Desktop\\\\rawdata1\\\\2011_09_26\\\\2011_09_26_drive_0002_sync\\\\oxts\\\\data\\\\0000000056.txt', 'C:\\\\Users\\\\HP\\\\Desktop\\\\rawdata1\\\\2011_09_26\\\\2011_09_26_drive_0002_sync\\\\oxts\\\\data\\\\0000000057.txt', 'C:\\\\Users\\\\HP\\\\Desktop\\\\rawdata1\\\\2011_09_26\\\\2011_09_26_drive_0002_sync\\\\oxts\\\\data\\\\0000000058.txt', 'C:\\\\Users\\\\HP\\\\Desktop\\\\rawdata1\\\\2011_09_26\\\\2011_09_26_drive_0002_sync\\\\oxts\\\\data\\\\0000000059.txt', 'C:\\\\Users\\\\HP\\\\Desktop\\\\rawdata1\\\\2011_09_26\\\\2011_09_26_drive_0002_sync\\\\oxts\\\\data\\\\0000000060.txt', 'C:\\\\Users\\\\HP\\\\Desktop\\\\rawdata1\\\\2011_09_26\\\\2011_09_26_drive_0002_sync\\\\oxts\\\\data\\\\0000000061.txt', 'C:\\\\Users\\\\HP\\\\Desktop\\\\rawdata1\\\\2011_09_26\\\\2011_09_26_drive_0002_sync\\\\oxts\\\\data\\\\0000000062.txt', 'C:\\\\Users\\\\HP\\\\Desktop\\\\rawdata1\\\\2011_09_26\\\\2011_09_26_drive_0002_sync\\\\oxts\\\\data\\\\0000000063.txt', 'C:\\\\Users\\\\HP\\\\Desktop\\\\rawdata1\\\\2011_09_26\\\\2011_09_26_drive_0002_sync\\\\oxts\\\\data\\\\0000000064.txt', 'C:\\\\Users\\\\HP\\\\Desktop\\\\rawdata1\\\\2011_09_26\\\\2011_09_26_drive_0002_sync\\\\oxts\\\\data\\\\0000000065.txt', 'C:\\\\Users\\\\HP\\\\Desktop\\\\rawdata1\\\\2011_09_26\\\\2011_09_26_drive_0002_sync\\\\oxts\\\\data\\\\0000000066.txt', 'C:\\\\Users\\\\HP\\\\Desktop\\\\rawdata1\\\\2011_09_26\\\\2011_09_26_drive_0002_sync\\\\oxts\\\\data\\\\0000000067.txt', 'C:\\\\Users\\\\HP\\\\Desktop\\\\rawdata1\\\\2011_09_26\\\\2011_09_26_drive_0002_sync\\\\oxts\\\\data\\\\0000000068.txt', 'C:\\\\Users\\\\HP\\\\Desktop\\\\rawdata1\\\\2011_09_26\\\\2011_09_26_drive_0002_sync\\\\oxts\\\\data\\\\0000000069.txt', 'C:\\\\Users\\\\HP\\\\Desktop\\\\rawdata1\\\\2011_09_26\\\\2011_09_26_drive_0002_sync\\\\oxts\\\\data\\\\0000000070.txt', 'C:\\\\Users\\\\HP\\\\Desktop\\\\rawdata1\\\\2011_09_26\\\\2011_09_26_drive_0002_sync\\\\oxts\\\\data\\\\0000000071.txt', 'C:\\\\Users\\\\HP\\\\Desktop\\\\rawdata1\\\\2011_09_26\\\\2011_09_26_drive_0002_sync\\\\oxts\\\\data\\\\0000000072.txt', 'C:\\\\Users\\\\HP\\\\Desktop\\\\rawdata1\\\\2011_09_26\\\\2011_09_26_drive_0002_sync\\\\oxts\\\\data\\\\0000000073.txt', 'C:\\\\Users\\\\HP\\\\Desktop\\\\rawdata1\\\\2011_09_26\\\\2011_09_26_drive_0002_sync\\\\oxts\\\\data\\\\0000000074.txt', 'C:\\\\Users\\\\HP\\\\Desktop\\\\rawdata1\\\\2011_09_26\\\\2011_09_26_drive_0002_sync\\\\oxts\\\\data\\\\0000000075.txt', 'C:\\\\Users\\\\HP\\\\Desktop\\\\rawdata1\\\\2011_09_26\\\\2011_09_26_drive_0002_sync\\\\oxts\\\\data\\\\0000000076.txt']\n",
      "1\n",
      "2\n",
      "2.1\n",
      "['C:\\\\Users\\\\HP\\\\Desktop\\\\rawdata1\\\\211_56\\\\2011_09_26_drive_0005_sync\\\\oxts\\\\data\\\\0000000000.txt', 'C:\\\\Users\\\\HP\\\\Desktop\\\\rawdata1\\\\211_56\\\\2011_09_26_drive_0005_sync\\\\oxts\\\\data\\\\0000000001.txt', 'C:\\\\Users\\\\HP\\\\Desktop\\\\rawdata1\\\\211_56\\\\2011_09_26_drive_0005_sync\\\\oxts\\\\data\\\\0000000002.txt', 'C:\\\\Users\\\\HP\\\\Desktop\\\\rawdata1\\\\211_56\\\\2011_09_26_drive_0005_sync\\\\oxts\\\\data\\\\0000000003.txt', 'C:\\\\Users\\\\HP\\\\Desktop\\\\rawdata1\\\\211_56\\\\2011_09_26_drive_0005_sync\\\\oxts\\\\data\\\\0000000004.txt', 'C:\\\\Users\\\\HP\\\\Desktop\\\\rawdata1\\\\211_56\\\\2011_09_26_drive_0005_sync\\\\oxts\\\\data\\\\0000000005.txt', 'C:\\\\Users\\\\HP\\\\Desktop\\\\rawdata1\\\\211_56\\\\2011_09_26_drive_0005_sync\\\\oxts\\\\data\\\\0000000006.txt', 'C:\\\\Users\\\\HP\\\\Desktop\\\\rawdata1\\\\211_56\\\\2011_09_26_drive_0005_sync\\\\oxts\\\\data\\\\0000000007.txt', 'C:\\\\Users\\\\HP\\\\Desktop\\\\rawdata1\\\\211_56\\\\2011_09_26_drive_0005_sync\\\\oxts\\\\data\\\\0000000008.txt', 'C:\\\\Users\\\\HP\\\\Desktop\\\\rawdata1\\\\211_56\\\\2011_09_26_drive_0005_sync\\\\oxts\\\\data\\\\0000000009.txt', 'C:\\\\Users\\\\HP\\\\Desktop\\\\rawdata1\\\\211_56\\\\2011_09_26_drive_0005_sync\\\\oxts\\\\data\\\\0000000010.txt', 'C:\\\\Users\\\\HP\\\\Desktop\\\\rawdata1\\\\211_56\\\\2011_09_26_drive_0005_sync\\\\oxts\\\\data\\\\0000000011.txt', 'C:\\\\Users\\\\HP\\\\Desktop\\\\rawdata1\\\\211_56\\\\2011_09_26_drive_0005_sync\\\\oxts\\\\data\\\\0000000012.txt', 'C:\\\\Users\\\\HP\\\\Desktop\\\\rawdata1\\\\211_56\\\\2011_09_26_drive_0005_sync\\\\oxts\\\\data\\\\0000000013.txt', 'C:\\\\Users\\\\HP\\\\Desktop\\\\rawdata1\\\\211_56\\\\2011_09_26_drive_0005_sync\\\\oxts\\\\data\\\\0000000014.txt', 'C:\\\\Users\\\\HP\\\\Desktop\\\\rawdata1\\\\211_56\\\\2011_09_26_drive_0005_sync\\\\oxts\\\\data\\\\0000000015.txt', 'C:\\\\Users\\\\HP\\\\Desktop\\\\rawdata1\\\\211_56\\\\2011_09_26_drive_0005_sync\\\\oxts\\\\data\\\\0000000016.txt', 'C:\\\\Users\\\\HP\\\\Desktop\\\\rawdata1\\\\211_56\\\\2011_09_26_drive_0005_sync\\\\oxts\\\\data\\\\0000000017.txt', 'C:\\\\Users\\\\HP\\\\Desktop\\\\rawdata1\\\\211_56\\\\2011_09_26_drive_0005_sync\\\\oxts\\\\data\\\\0000000018.txt', 'C:\\\\Users\\\\HP\\\\Desktop\\\\rawdata1\\\\211_56\\\\2011_09_26_drive_0005_sync\\\\oxts\\\\data\\\\0000000019.txt', 'C:\\\\Users\\\\HP\\\\Desktop\\\\rawdata1\\\\211_56\\\\2011_09_26_drive_0005_sync\\\\oxts\\\\data\\\\0000000020.txt', 'C:\\\\Users\\\\HP\\\\Desktop\\\\rawdata1\\\\211_56\\\\2011_09_26_drive_0005_sync\\\\oxts\\\\data\\\\0000000021.txt', 'C:\\\\Users\\\\HP\\\\Desktop\\\\rawdata1\\\\211_56\\\\2011_09_26_drive_0005_sync\\\\oxts\\\\data\\\\0000000022.txt', 'C:\\\\Users\\\\HP\\\\Desktop\\\\rawdata1\\\\211_56\\\\2011_09_26_drive_0005_sync\\\\oxts\\\\data\\\\0000000023.txt', 'C:\\\\Users\\\\HP\\\\Desktop\\\\rawdata1\\\\211_56\\\\2011_09_26_drive_0005_sync\\\\oxts\\\\data\\\\0000000024.txt', 'C:\\\\Users\\\\HP\\\\Desktop\\\\rawdata1\\\\211_56\\\\2011_09_26_drive_0005_sync\\\\oxts\\\\data\\\\0000000025.txt', 'C:\\\\Users\\\\HP\\\\Desktop\\\\rawdata1\\\\211_56\\\\2011_09_26_drive_0005_sync\\\\oxts\\\\data\\\\0000000026.txt', 'C:\\\\Users\\\\HP\\\\Desktop\\\\rawdata1\\\\211_56\\\\2011_09_26_drive_0005_sync\\\\oxts\\\\data\\\\0000000027.txt', 'C:\\\\Users\\\\HP\\\\Desktop\\\\rawdata1\\\\211_56\\\\2011_09_26_drive_0005_sync\\\\oxts\\\\data\\\\0000000028.txt', 'C:\\\\Users\\\\HP\\\\Desktop\\\\rawdata1\\\\211_56\\\\2011_09_26_drive_0005_sync\\\\oxts\\\\data\\\\0000000029.txt', 'C:\\\\Users\\\\HP\\\\Desktop\\\\rawdata1\\\\211_56\\\\2011_09_26_drive_0005_sync\\\\oxts\\\\data\\\\0000000030.txt', 'C:\\\\Users\\\\HP\\\\Desktop\\\\rawdata1\\\\211_56\\\\2011_09_26_drive_0005_sync\\\\oxts\\\\data\\\\0000000031.txt', 'C:\\\\Users\\\\HP\\\\Desktop\\\\rawdata1\\\\211_56\\\\2011_09_26_drive_0005_sync\\\\oxts\\\\data\\\\0000000032.txt', 'C:\\\\Users\\\\HP\\\\Desktop\\\\rawdata1\\\\211_56\\\\2011_09_26_drive_0005_sync\\\\oxts\\\\data\\\\0000000033.txt', 'C:\\\\Users\\\\HP\\\\Desktop\\\\rawdata1\\\\211_56\\\\2011_09_26_drive_0005_sync\\\\oxts\\\\data\\\\0000000034.txt', 'C:\\\\Users\\\\HP\\\\Desktop\\\\rawdata1\\\\211_56\\\\2011_09_26_drive_0005_sync\\\\oxts\\\\data\\\\0000000035.txt', 'C:\\\\Users\\\\HP\\\\Desktop\\\\rawdata1\\\\211_56\\\\2011_09_26_drive_0005_sync\\\\oxts\\\\data\\\\0000000036.txt', 'C:\\\\Users\\\\HP\\\\Desktop\\\\rawdata1\\\\211_56\\\\2011_09_26_drive_0005_sync\\\\oxts\\\\data\\\\0000000037.txt', 'C:\\\\Users\\\\HP\\\\Desktop\\\\rawdata1\\\\211_56\\\\2011_09_26_drive_0005_sync\\\\oxts\\\\data\\\\0000000038.txt', 'C:\\\\Users\\\\HP\\\\Desktop\\\\rawdata1\\\\211_56\\\\2011_09_26_drive_0005_sync\\\\oxts\\\\data\\\\0000000039.txt', 'C:\\\\Users\\\\HP\\\\Desktop\\\\rawdata1\\\\211_56\\\\2011_09_26_drive_0005_sync\\\\oxts\\\\data\\\\0000000040.txt', 'C:\\\\Users\\\\HP\\\\Desktop\\\\rawdata1\\\\211_56\\\\2011_09_26_drive_0005_sync\\\\oxts\\\\data\\\\0000000041.txt', 'C:\\\\Users\\\\HP\\\\Desktop\\\\rawdata1\\\\211_56\\\\2011_09_26_drive_0005_sync\\\\oxts\\\\data\\\\0000000042.txt', 'C:\\\\Users\\\\HP\\\\Desktop\\\\rawdata1\\\\211_56\\\\2011_09_26_drive_0005_sync\\\\oxts\\\\data\\\\0000000043.txt', 'C:\\\\Users\\\\HP\\\\Desktop\\\\rawdata1\\\\211_56\\\\2011_09_26_drive_0005_sync\\\\oxts\\\\data\\\\0000000044.txt', 'C:\\\\Users\\\\HP\\\\Desktop\\\\rawdata1\\\\211_56\\\\2011_09_26_drive_0005_sync\\\\oxts\\\\data\\\\0000000045.txt', 'C:\\\\Users\\\\HP\\\\Desktop\\\\rawdata1\\\\211_56\\\\2011_09_26_drive_0005_sync\\\\oxts\\\\data\\\\0000000046.txt', 'C:\\\\Users\\\\HP\\\\Desktop\\\\rawdata1\\\\211_56\\\\2011_09_26_drive_0005_sync\\\\oxts\\\\data\\\\0000000047.txt', 'C:\\\\Users\\\\HP\\\\Desktop\\\\rawdata1\\\\211_56\\\\2011_09_26_drive_0005_sync\\\\oxts\\\\data\\\\0000000048.txt', 'C:\\\\Users\\\\HP\\\\Desktop\\\\rawdata1\\\\211_56\\\\2011_09_26_drive_0005_sync\\\\oxts\\\\data\\\\0000000049.txt', 'C:\\\\Users\\\\HP\\\\Desktop\\\\rawdata1\\\\211_56\\\\2011_09_26_drive_0005_sync\\\\oxts\\\\data\\\\0000000050.txt', 'C:\\\\Users\\\\HP\\\\Desktop\\\\rawdata1\\\\211_56\\\\2011_09_26_drive_0005_sync\\\\oxts\\\\data\\\\0000000051.txt', 'C:\\\\Users\\\\HP\\\\Desktop\\\\rawdata1\\\\211_56\\\\2011_09_26_drive_0005_sync\\\\oxts\\\\data\\\\0000000052.txt', 'C:\\\\Users\\\\HP\\\\Desktop\\\\rawdata1\\\\211_56\\\\2011_09_26_drive_0005_sync\\\\oxts\\\\data\\\\0000000053.txt', 'C:\\\\Users\\\\HP\\\\Desktop\\\\rawdata1\\\\211_56\\\\2011_09_26_drive_0005_sync\\\\oxts\\\\data\\\\0000000054.txt', 'C:\\\\Users\\\\HP\\\\Desktop\\\\rawdata1\\\\211_56\\\\2011_09_26_drive_0005_sync\\\\oxts\\\\data\\\\0000000055.txt', 'C:\\\\Users\\\\HP\\\\Desktop\\\\rawdata1\\\\211_56\\\\2011_09_26_drive_0005_sync\\\\oxts\\\\data\\\\0000000056.txt', 'C:\\\\Users\\\\HP\\\\Desktop\\\\rawdata1\\\\211_56\\\\2011_09_26_drive_0005_sync\\\\oxts\\\\data\\\\0000000057.txt', 'C:\\\\Users\\\\HP\\\\Desktop\\\\rawdata1\\\\211_56\\\\2011_09_26_drive_0005_sync\\\\oxts\\\\data\\\\0000000058.txt', 'C:\\\\Users\\\\HP\\\\Desktop\\\\rawdata1\\\\211_56\\\\2011_09_26_drive_0005_sync\\\\oxts\\\\data\\\\0000000059.txt', 'C:\\\\Users\\\\HP\\\\Desktop\\\\rawdata1\\\\211_56\\\\2011_09_26_drive_0005_sync\\\\oxts\\\\data\\\\0000000060.txt', 'C:\\\\Users\\\\HP\\\\Desktop\\\\rawdata1\\\\211_56\\\\2011_09_26_drive_0005_sync\\\\oxts\\\\data\\\\0000000061.txt', 'C:\\\\Users\\\\HP\\\\Desktop\\\\rawdata1\\\\211_56\\\\2011_09_26_drive_0005_sync\\\\oxts\\\\data\\\\0000000062.txt', 'C:\\\\Users\\\\HP\\\\Desktop\\\\rawdata1\\\\211_56\\\\2011_09_26_drive_0005_sync\\\\oxts\\\\data\\\\0000000063.txt', 'C:\\\\Users\\\\HP\\\\Desktop\\\\rawdata1\\\\211_56\\\\2011_09_26_drive_0005_sync\\\\oxts\\\\data\\\\0000000064.txt', 'C:\\\\Users\\\\HP\\\\Desktop\\\\rawdata1\\\\211_56\\\\2011_09_26_drive_0005_sync\\\\oxts\\\\data\\\\0000000065.txt', 'C:\\\\Users\\\\HP\\\\Desktop\\\\rawdata1\\\\211_56\\\\2011_09_26_drive_0005_sync\\\\oxts\\\\data\\\\0000000066.txt', 'C:\\\\Users\\\\HP\\\\Desktop\\\\rawdata1\\\\211_56\\\\2011_09_26_drive_0005_sync\\\\oxts\\\\data\\\\0000000067.txt', 'C:\\\\Users\\\\HP\\\\Desktop\\\\rawdata1\\\\211_56\\\\2011_09_26_drive_0005_sync\\\\oxts\\\\data\\\\0000000068.txt', 'C:\\\\Users\\\\HP\\\\Desktop\\\\rawdata1\\\\211_56\\\\2011_09_26_drive_0005_sync\\\\oxts\\\\data\\\\0000000069.txt', 'C:\\\\Users\\\\HP\\\\Desktop\\\\rawdata1\\\\211_56\\\\2011_09_26_drive_0005_sync\\\\oxts\\\\data\\\\0000000070.txt', 'C:\\\\Users\\\\HP\\\\Desktop\\\\rawdata1\\\\211_56\\\\2011_09_26_drive_0005_sync\\\\oxts\\\\data\\\\0000000071.txt', 'C:\\\\Users\\\\HP\\\\Desktop\\\\rawdata1\\\\211_56\\\\2011_09_26_drive_0005_sync\\\\oxts\\\\data\\\\0000000072.txt', 'C:\\\\Users\\\\HP\\\\Desktop\\\\rawdata1\\\\211_56\\\\2011_09_26_drive_0005_sync\\\\oxts\\\\data\\\\0000000073.txt', 'C:\\\\Users\\\\HP\\\\Desktop\\\\rawdata1\\\\211_56\\\\2011_09_26_drive_0005_sync\\\\oxts\\\\data\\\\0000000074.txt', 'C:\\\\Users\\\\HP\\\\Desktop\\\\rawdata1\\\\211_56\\\\2011_09_26_drive_0005_sync\\\\oxts\\\\data\\\\0000000075.txt', 'C:\\\\Users\\\\HP\\\\Desktop\\\\rawdata1\\\\211_56\\\\2011_09_26_drive_0005_sync\\\\oxts\\\\data\\\\0000000076.txt', 'C:\\\\Users\\\\HP\\\\Desktop\\\\rawdata1\\\\211_56\\\\2011_09_26_drive_0005_sync\\\\oxts\\\\data\\\\0000000077.txt', 'C:\\\\Users\\\\HP\\\\Desktop\\\\rawdata1\\\\211_56\\\\2011_09_26_drive_0005_sync\\\\oxts\\\\data\\\\0000000078.txt', 'C:\\\\Users\\\\HP\\\\Desktop\\\\rawdata1\\\\211_56\\\\2011_09_26_drive_0005_sync\\\\oxts\\\\data\\\\0000000079.txt', 'C:\\\\Users\\\\HP\\\\Desktop\\\\rawdata1\\\\211_56\\\\2011_09_26_drive_0005_sync\\\\oxts\\\\data\\\\0000000080.txt', 'C:\\\\Users\\\\HP\\\\Desktop\\\\rawdata1\\\\211_56\\\\2011_09_26_drive_0005_sync\\\\oxts\\\\data\\\\0000000081.txt', 'C:\\\\Users\\\\HP\\\\Desktop\\\\rawdata1\\\\211_56\\\\2011_09_26_drive_0005_sync\\\\oxts\\\\data\\\\0000000082.txt', 'C:\\\\Users\\\\HP\\\\Desktop\\\\rawdata1\\\\211_56\\\\2011_09_26_drive_0005_sync\\\\oxts\\\\data\\\\0000000083.txt', 'C:\\\\Users\\\\HP\\\\Desktop\\\\rawdata1\\\\211_56\\\\2011_09_26_drive_0005_sync\\\\oxts\\\\data\\\\0000000084.txt', 'C:\\\\Users\\\\HP\\\\Desktop\\\\rawdata1\\\\211_56\\\\2011_09_26_drive_0005_sync\\\\oxts\\\\data\\\\0000000085.txt', 'C:\\\\Users\\\\HP\\\\Desktop\\\\rawdata1\\\\211_56\\\\2011_09_26_drive_0005_sync\\\\oxts\\\\data\\\\0000000086.txt', 'C:\\\\Users\\\\HP\\\\Desktop\\\\rawdata1\\\\211_56\\\\2011_09_26_drive_0005_sync\\\\oxts\\\\data\\\\0000000087.txt', 'C:\\\\Users\\\\HP\\\\Desktop\\\\rawdata1\\\\211_56\\\\2011_09_26_drive_0005_sync\\\\oxts\\\\data\\\\0000000088.txt', 'C:\\\\Users\\\\HP\\\\Desktop\\\\rawdata1\\\\211_56\\\\2011_09_26_drive_0005_sync\\\\oxts\\\\data\\\\0000000089.txt', 'C:\\\\Users\\\\HP\\\\Desktop\\\\rawdata1\\\\211_56\\\\2011_09_26_drive_0005_sync\\\\oxts\\\\data\\\\0000000090.txt', 'C:\\\\Users\\\\HP\\\\Desktop\\\\rawdata1\\\\211_56\\\\2011_09_26_drive_0005_sync\\\\oxts\\\\data\\\\0000000091.txt', 'C:\\\\Users\\\\HP\\\\Desktop\\\\rawdata1\\\\211_56\\\\2011_09_26_drive_0005_sync\\\\oxts\\\\data\\\\0000000092.txt', 'C:\\\\Users\\\\HP\\\\Desktop\\\\rawdata1\\\\211_56\\\\2011_09_26_drive_0005_sync\\\\oxts\\\\data\\\\0000000093.txt', 'C:\\\\Users\\\\HP\\\\Desktop\\\\rawdata1\\\\211_56\\\\2011_09_26_drive_0005_sync\\\\oxts\\\\data\\\\0000000094.txt', 'C:\\\\Users\\\\HP\\\\Desktop\\\\rawdata1\\\\211_56\\\\2011_09_26_drive_0005_sync\\\\oxts\\\\data\\\\0000000095.txt', 'C:\\\\Users\\\\HP\\\\Desktop\\\\rawdata1\\\\211_56\\\\2011_09_26_drive_0005_sync\\\\oxts\\\\data\\\\0000000096.txt', 'C:\\\\Users\\\\HP\\\\Desktop\\\\rawdata1\\\\211_56\\\\2011_09_26_drive_0005_sync\\\\oxts\\\\data\\\\0000000097.txt', 'C:\\\\Users\\\\HP\\\\Desktop\\\\rawdata1\\\\211_56\\\\2011_09_26_drive_0005_sync\\\\oxts\\\\data\\\\0000000098.txt', 'C:\\\\Users\\\\HP\\\\Desktop\\\\rawdata1\\\\211_56\\\\2011_09_26_drive_0005_sync\\\\oxts\\\\data\\\\0000000099.txt', 'C:\\\\Users\\\\HP\\\\Desktop\\\\rawdata1\\\\211_56\\\\2011_09_26_drive_0005_sync\\\\oxts\\\\data\\\\0000000100.txt', 'C:\\\\Users\\\\HP\\\\Desktop\\\\rawdata1\\\\211_56\\\\2011_09_26_drive_0005_sync\\\\oxts\\\\data\\\\0000000101.txt', 'C:\\\\Users\\\\HP\\\\Desktop\\\\rawdata1\\\\211_56\\\\2011_09_26_drive_0005_sync\\\\oxts\\\\data\\\\0000000102.txt', 'C:\\\\Users\\\\HP\\\\Desktop\\\\rawdata1\\\\211_56\\\\2011_09_26_drive_0005_sync\\\\oxts\\\\data\\\\0000000103.txt', 'C:\\\\Users\\\\HP\\\\Desktop\\\\rawdata1\\\\211_56\\\\2011_09_26_drive_0005_sync\\\\oxts\\\\data\\\\0000000104.txt', 'C:\\\\Users\\\\HP\\\\Desktop\\\\rawdata1\\\\211_56\\\\2011_09_26_drive_0005_sync\\\\oxts\\\\data\\\\0000000105.txt', 'C:\\\\Users\\\\HP\\\\Desktop\\\\rawdata1\\\\211_56\\\\2011_09_26_drive_0005_sync\\\\oxts\\\\data\\\\0000000106.txt', 'C:\\\\Users\\\\HP\\\\Desktop\\\\rawdata1\\\\211_56\\\\2011_09_26_drive_0005_sync\\\\oxts\\\\data\\\\0000000107.txt', 'C:\\\\Users\\\\HP\\\\Desktop\\\\rawdata1\\\\211_56\\\\2011_09_26_drive_0005_sync\\\\oxts\\\\data\\\\0000000108.txt', 'C:\\\\Users\\\\HP\\\\Desktop\\\\rawdata1\\\\211_56\\\\2011_09_26_drive_0005_sync\\\\oxts\\\\data\\\\0000000109.txt', 'C:\\\\Users\\\\HP\\\\Desktop\\\\rawdata1\\\\211_56\\\\2011_09_26_drive_0005_sync\\\\oxts\\\\data\\\\0000000110.txt', 'C:\\\\Users\\\\HP\\\\Desktop\\\\rawdata1\\\\211_56\\\\2011_09_26_drive_0005_sync\\\\oxts\\\\data\\\\0000000111.txt', 'C:\\\\Users\\\\HP\\\\Desktop\\\\rawdata1\\\\211_56\\\\2011_09_26_drive_0005_sync\\\\oxts\\\\data\\\\0000000112.txt', 'C:\\\\Users\\\\HP\\\\Desktop\\\\rawdata1\\\\211_56\\\\2011_09_26_drive_0005_sync\\\\oxts\\\\data\\\\0000000113.txt', 'C:\\\\Users\\\\HP\\\\Desktop\\\\rawdata1\\\\211_56\\\\2011_09_26_drive_0005_sync\\\\oxts\\\\data\\\\0000000114.txt', 'C:\\\\Users\\\\HP\\\\Desktop\\\\rawdata1\\\\211_56\\\\2011_09_26_drive_0005_sync\\\\oxts\\\\data\\\\0000000115.txt', 'C:\\\\Users\\\\HP\\\\Desktop\\\\rawdata1\\\\211_56\\\\2011_09_26_drive_0005_sync\\\\oxts\\\\data\\\\0000000116.txt', 'C:\\\\Users\\\\HP\\\\Desktop\\\\rawdata1\\\\211_56\\\\2011_09_26_drive_0005_sync\\\\oxts\\\\data\\\\0000000117.txt', 'C:\\\\Users\\\\HP\\\\Desktop\\\\rawdata1\\\\211_56\\\\2011_09_26_drive_0005_sync\\\\oxts\\\\data\\\\0000000118.txt', 'C:\\\\Users\\\\HP\\\\Desktop\\\\rawdata1\\\\211_56\\\\2011_09_26_drive_0005_sync\\\\oxts\\\\data\\\\0000000119.txt', 'C:\\\\Users\\\\HP\\\\Desktop\\\\rawdata1\\\\211_56\\\\2011_09_26_drive_0005_sync\\\\oxts\\\\data\\\\0000000120.txt', 'C:\\\\Users\\\\HP\\\\Desktop\\\\rawdata1\\\\211_56\\\\2011_09_26_drive_0005_sync\\\\oxts\\\\data\\\\0000000121.txt', 'C:\\\\Users\\\\HP\\\\Desktop\\\\rawdata1\\\\211_56\\\\2011_09_26_drive_0005_sync\\\\oxts\\\\data\\\\0000000122.txt', 'C:\\\\Users\\\\HP\\\\Desktop\\\\rawdata1\\\\211_56\\\\2011_09_26_drive_0005_sync\\\\oxts\\\\data\\\\0000000123.txt', 'C:\\\\Users\\\\HP\\\\Desktop\\\\rawdata1\\\\211_56\\\\2011_09_26_drive_0005_sync\\\\oxts\\\\data\\\\0000000124.txt', 'C:\\\\Users\\\\HP\\\\Desktop\\\\rawdata1\\\\211_56\\\\2011_09_26_drive_0005_sync\\\\oxts\\\\data\\\\0000000125.txt', 'C:\\\\Users\\\\HP\\\\Desktop\\\\rawdata1\\\\211_56\\\\2011_09_26_drive_0005_sync\\\\oxts\\\\data\\\\0000000126.txt', 'C:\\\\Users\\\\HP\\\\Desktop\\\\rawdata1\\\\211_56\\\\2011_09_26_drive_0005_sync\\\\oxts\\\\data\\\\0000000127.txt', 'C:\\\\Users\\\\HP\\\\Desktop\\\\rawdata1\\\\211_56\\\\2011_09_26_drive_0005_sync\\\\oxts\\\\data\\\\0000000128.txt', 'C:\\\\Users\\\\HP\\\\Desktop\\\\rawdata1\\\\211_56\\\\2011_09_26_drive_0005_sync\\\\oxts\\\\data\\\\0000000129.txt', 'C:\\\\Users\\\\HP\\\\Desktop\\\\rawdata1\\\\211_56\\\\2011_09_26_drive_0005_sync\\\\oxts\\\\data\\\\0000000130.txt', 'C:\\\\Users\\\\HP\\\\Desktop\\\\rawdata1\\\\211_56\\\\2011_09_26_drive_0005_sync\\\\oxts\\\\data\\\\0000000131.txt', 'C:\\\\Users\\\\HP\\\\Desktop\\\\rawdata1\\\\211_56\\\\2011_09_26_drive_0005_sync\\\\oxts\\\\data\\\\0000000132.txt', 'C:\\\\Users\\\\HP\\\\Desktop\\\\rawdata1\\\\211_56\\\\2011_09_26_drive_0005_sync\\\\oxts\\\\data\\\\0000000133.txt', 'C:\\\\Users\\\\HP\\\\Desktop\\\\rawdata1\\\\211_56\\\\2011_09_26_drive_0005_sync\\\\oxts\\\\data\\\\0000000134.txt', 'C:\\\\Users\\\\HP\\\\Desktop\\\\rawdata1\\\\211_56\\\\2011_09_26_drive_0005_sync\\\\oxts\\\\data\\\\0000000135.txt', 'C:\\\\Users\\\\HP\\\\Desktop\\\\rawdata1\\\\211_56\\\\2011_09_26_drive_0005_sync\\\\oxts\\\\data\\\\0000000136.txt', 'C:\\\\Users\\\\HP\\\\Desktop\\\\rawdata1\\\\211_56\\\\2011_09_26_drive_0005_sync\\\\oxts\\\\data\\\\0000000137.txt', 'C:\\\\Users\\\\HP\\\\Desktop\\\\rawdata1\\\\211_56\\\\2011_09_26_drive_0005_sync\\\\oxts\\\\data\\\\0000000138.txt', 'C:\\\\Users\\\\HP\\\\Desktop\\\\rawdata1\\\\211_56\\\\2011_09_26_drive_0005_sync\\\\oxts\\\\data\\\\0000000139.txt', 'C:\\\\Users\\\\HP\\\\Desktop\\\\rawdata1\\\\211_56\\\\2011_09_26_drive_0005_sync\\\\oxts\\\\data\\\\0000000140.txt', 'C:\\\\Users\\\\HP\\\\Desktop\\\\rawdata1\\\\211_56\\\\2011_09_26_drive_0005_sync\\\\oxts\\\\data\\\\0000000141.txt', 'C:\\\\Users\\\\HP\\\\Desktop\\\\rawdata1\\\\211_56\\\\2011_09_26_drive_0005_sync\\\\oxts\\\\data\\\\0000000142.txt', 'C:\\\\Users\\\\HP\\\\Desktop\\\\rawdata1\\\\211_56\\\\2011_09_26_drive_0005_sync\\\\oxts\\\\data\\\\0000000143.txt', 'C:\\\\Users\\\\HP\\\\Desktop\\\\rawdata1\\\\211_56\\\\2011_09_26_drive_0005_sync\\\\oxts\\\\data\\\\0000000144.txt', 'C:\\\\Users\\\\HP\\\\Desktop\\\\rawdata1\\\\211_56\\\\2011_09_26_drive_0005_sync\\\\oxts\\\\data\\\\0000000145.txt', 'C:\\\\Users\\\\HP\\\\Desktop\\\\rawdata1\\\\211_56\\\\2011_09_26_drive_0005_sync\\\\oxts\\\\data\\\\0000000146.txt', 'C:\\\\Users\\\\HP\\\\Desktop\\\\rawdata1\\\\211_56\\\\2011_09_26_drive_0005_sync\\\\oxts\\\\data\\\\0000000147.txt', 'C:\\\\Users\\\\HP\\\\Desktop\\\\rawdata1\\\\211_56\\\\2011_09_26_drive_0005_sync\\\\oxts\\\\data\\\\0000000148.txt', 'C:\\\\Users\\\\HP\\\\Desktop\\\\rawdata1\\\\211_56\\\\2011_09_26_drive_0005_sync\\\\oxts\\\\data\\\\0000000149.txt', 'C:\\\\Users\\\\HP\\\\Desktop\\\\rawdata1\\\\211_56\\\\2011_09_26_drive_0005_sync\\\\oxts\\\\data\\\\0000000150.txt', 'C:\\\\Users\\\\HP\\\\Desktop\\\\rawdata1\\\\211_56\\\\2011_09_26_drive_0005_sync\\\\oxts\\\\data\\\\0000000151.txt', 'C:\\\\Users\\\\HP\\\\Desktop\\\\rawdata1\\\\211_56\\\\2011_09_26_drive_0005_sync\\\\oxts\\\\data\\\\0000000152.txt', 'C:\\\\Users\\\\HP\\\\Desktop\\\\rawdata1\\\\211_56\\\\2011_09_26_drive_0005_sync\\\\oxts\\\\data\\\\0000000153.txt']\n"
     ]
    }
   ],
   "source": [
    "import os\n",
    "import glob\n",
    "path_data_base= \"C:\\\\Users\\\\HP\\\\Desktop\\\\rawdata1\"\n",
    "date_dirs = os.listdir(path_data_base)\n",
    "for n_iter, date_dir in enumerate(date_dirs):\n",
    "    # get access to each sequence\n",
    "    print('1')\n",
    "    path1 = os.path.join(path_data_base, date_dir)\n",
    "    if not os.path.isdir(path1):\n",
    "        print('1.1')\n",
    "        continue\n",
    "    date_dirs2 = os.listdir(path1)\n",
    "    print('2')\n",
    "\n",
    "    for date_dir2 in date_dirs2:\n",
    "        path2 = os.path.join(path1, date_dir2)\n",
    "        print('2.1')\n",
    "        if not os.path.isdir(path2):\n",
    "            print('2.2')\n",
    "            continue\n",
    "        # read data\n",
    "        oxts_files = sorted(glob.glob(os.path.join(path2, 'oxts', 'data', '*.txt')))\n",
    "        print(oxts_files)"
   ]
  },
  {
   "cell_type": "code",
   "execution_count": null,
   "metadata": {},
   "outputs": [],
   "source": [
    "class MesNet(torch.nn.Module):\n",
    "        def __init__(self):\n",
    "            super(MesNet, self).__init__()\n",
    "            self.beta_measurement = 3*torch.ones(2).double()\n",
    "            self.tanh = torch.nn.Tanh()\n",
    "\n",
    "            self.cov_net= torch.nn.Sequential(\n",
    "                    torch.nn.Conv1d(6, 32, 5),\n",
    "                    torch.nn.ReplicationPad1d(4),\n",
    "                    torch.nn.ReLU(),\n",
    "                    torch.nn.Dropout(p=0.5),\n",
    "                    torch.nn.Conv1d(32, 32, 5, dilation=3),\n",
    "                    torch.nn.ReplicationPad1d(4),\n",
    "                    torch.nn.ReLU(),\n",
    "                    torch.nn.Dropout(p=0.5),\n",
    "                    ).double()\n",
    "            \"CNN for measurement covariance\"\n",
    "            self.cov_lin = torch.nn.Sequential(torch.nn.Linear(32, 2),\n",
    "                                              torch.nn.Tanh(),\n",
    "                                              ).double()\n",
    "            self.cov_lin[0].bias.data[:] /= 100\n",
    "            self.cov_lin[0].weight.data[:] /= 100\n",
    "\n",
    "        def forward(self, u, iekf):\n",
    "            y_cov = self.cov_net(u).transpose(0, 2).squeeze()\n",
    "            z_cov = self.cov_lin(y_cov)\n",
    "            z_cov_net = self.beta_measurement.unsqueeze(0)*z_cov\n",
    "            measurements_covs = (iekf.cov0_measurement.unsqueeze(0) * (10**z_cov_net))\n",
    "            return measurements_covs"
   ]
  },
  {
   "cell_type": "code",
   "execution_count": 1,
   "metadata": {},
   "outputs": [
    {
     "data": {
      "text/plain": [
       "100"
      ]
     },
     "execution_count": 1,
     "metadata": {},
     "output_type": "execute_result"
    }
   ],
   "source": [
    "10**2"
   ]
  },
  {
   "cell_type": "code",
   "execution_count": null,
   "metadata": {},
   "outputs": [],
   "source": [
    "class MesNet(torch.nn.Module):\n",
    "        \"\"\"\n",
    "        Measurement Network (MesNet) for the Implicit Extended Kalman Filter (IEKF).\n",
    "\n",
    "        This network takes the input sensor data and predicts the measurement covariance\n",
    "        for the IEKF. The input data consists of the sensor readings, and the output is\n",
    "        the predicted measurement covariance.\n",
    "\n",
    "        Parameters:\n",
    "            None\n",
    "\n",
    "        Attributes:\n",
    "            beta_measurement (torch.Tensor): Scaling factor for the predicted covariance.\n",
    "            tanh (torch.nn.Tanh): Hyperbolic tangent activation function.\n",
    "\n",
    "            Convolutional Neural Network (CNN) Layers:\n",
    "                cov_net (torch.nn.Sequential): CNN layers for processing sensor data.\n",
    "                cov_lin (torch.nn.Sequential): Linear layer for predicting the covariance.\n",
    "\n",
    "        Input:\n",
    "            u (torch.Tensor): Input sensor data tensor with shape (batch_size, num_features=6, sequence_length=6000).\n",
    "            num_features = 6D pose (acc and gyro in x,y,z direction)\n",
    "        Output:\n",
    "            - measurements_covs (torch.Tensor): Predicted measurement covariance tensor with shape (batch_size, 2),\n",
    "            where 2 represents the two elements of the covariance matrix (variance for gyro and acc).\n",
    "          \"\"\"\n",
    "        def __init__(self):\n",
    "            super(MesNet, self).__init__()\n",
    "            self.beta_measurement = 3*torch.ones(2).double()\n",
    "            self.tanh = torch.nn.Tanh()\n",
    "\n",
    "            self.cov_net1 = torch.nn.Sequential(\n",
    "                    torch.nn.Conv1d(6, 32, 5),\n",
    "                    torch.nn.ReplicationPad1d(4),\n",
    "                    torch.nn.ReLU(),\n",
    "                    torch.nn.Dropout(p=0.5)\n",
    "            ).double()\n",
    "            self.cov_net2 = torch.nn.Sequential(\n",
    "                    torch.nn.Conv1d(32, 32, 5),\n",
    "                    torch.nn.ReplicationPad1d(4),\n",
    "                    torch.nn.ReLU(),\n",
    "                    torch.nn.Dropout(p=0.5)\n",
    "            ).double()\n",
    "            self.cov_net3 = torch.nn.Sequential(\n",
    "                    torch.nn.Conv1d(32, 32, 5, dilation=3),\n",
    "                    torch.nn.ReplicationPad1d(4),\n",
    "                    torch.nn.ReLU(),\n",
    "                    torch.nn.Dropout(p=0.5),\n",
    "                    ).double()\n",
    "            \"CNN for measurement covariance\"\n",
    "            self.cov_lin = torch.nn.Sequential(torch.nn.Linear(32, 2), \n",
    "                                              torch.nn.Tanh(),\n",
    "                                              ).double()\n",
    "            self.cov_lin[0].bias.data[:] /= 100\n",
    "            self.cov_lin[0].weight.data[:] /= 100\n",
    "\n",
    "        def forward(self, u, iekf):\n",
    "            #print(f\"input to network is{u} and shape is {u.shape}\")\n",
    "            y_cov = self.cov_net1(u)\n",
    "            y_cov = self.cov_net2(y_cov)\n",
    "            y_cov = self.cov_net3(y_cov).transpose(0, 2).squeeze()\n",
    "            #print(f\"output of conv_net is{y_cov} and shape is {y_cov.shape}\")\n",
    "            z_cov = self.cov_lin(y_cov)\n",
    "            #print(f\"output of conv_lin is{z_cov} and shape is {z_cov.shape}\")\n",
    "            z_cov_net = self.beta_measurement.unsqueeze(0)*z_cov\n",
    "            #print(f\"output of beta mesurments is{z_cov_net} and shape is {z_cov_net.shape}\")\n",
    "            measurements_covs = (iekf.cov0_measurement.unsqueeze(0) * (10**z_cov_net)) \n",
    "            \"\"\" (10**z_cov_net) apply exponentiation with covariance matrices to ensure positive-definiteness.\n",
    "                The diagonal elements of a covariance matrix represent the variances of individual random variables.\n",
    "                Variance is a measure of the spread or dispersion of a random variable. A negative variance would not make sense in this context.\"\"\"\n",
    "            #print(f\"mesurment cov is{measurements_covs} and shape is {measurements_covs.shape}\")\n",
    "            return measurements_covs\n",
    "        \n",
    "def train_filter(args, dataset):\n",
    "\n",
    "    \"\"\"\n",
    "    Sets up and prepares the IEKF filter for training.\n",
    "    Calls prepare_filter, prepare_loss_data, and save_iekf.\n",
    "    Initializes optimizer and enters the training loop.\n",
    "    \"\"\"\n",
    "    \n",
    "    iekf = prepare_filter(args, dataset)\n",
    "    prepare_loss_data(args, dataset)\n",
    "    save_iekf(args, iekf)\n",
    "    optimizer = set_optimizer(iekf)\n",
    "    start_time = time.time()\n",
    "\n",
    "    for epoch in range(1, args.epochs + 1):\n",
    "        train_loop(args, dataset, epoch, iekf, optimizer, args.seq_dim)\n",
    "        save_iekf(args, iekf)\n",
    "        print(\"Amount of time spent for 1 epoch: {}s\\n\".format(int(time.time() - start_time)))\n",
    "        start_time = time.time()\n",
    "\n",
    "def train_loop(args, dataset, epoch, iekf, optimizer, seq_dim):\n",
    "    \"\"\"\n",
    "    Performs training for each dataset in the training set.\n",
    "    Calls \"mini_batch_step\" for each dataset to compute loss.\n",
    "    Updates model parameters using the optimizer.\n",
    "    \"\"\"\n",
    "    loss_train = 0\n",
    "    optimizer.zero_grad()\n",
    "    for i, (dataset_name, Ns) in enumerate(dataset.datasets_train_filter.items()):\n",
    "        t, ang_gt, p_gt, v_gt, u, N0 = prepare_data_filter(dataset, dataset_name, Ns,\n",
    "                                                                  iekf, seq_dim)\n",
    "\n",
    "        loss = mini_batch_step(dataset, dataset_name, iekf,\n",
    "                               dataset.list_rpe[dataset_name], t, ang_gt, p_gt, v_gt, u, N0)\n",
    "\n",
    "        if (loss == -1 or torch.isnan(loss)):\n",
    "            cprint(\"{} loss is invalid\".format(i), 'yellow')\n",
    "            continue\n",
    "        elif loss > max_loss:\n",
    "            cprint(\"{} loss is too high {:.5f}\".format(i, loss), 'yellow')\n",
    "            continue\n",
    "        else:\n",
    "            loss_train += loss\n",
    "            cprint(\"{} loss: {:.5f}\".format(i, loss))\n",
    "\n",
    "    if loss_train == 0: \n",
    "        return \n",
    "    loss_train.backward()  # loss_train.cuda().backward()  \n",
    "    g_norm = torch.nn.utils.clip_grad_norm_(iekf.parameters(), max_grad_norm)\n",
    "    if np.isnan(g_norm) or g_norm > 3*max_grad_norm:\n",
    "        cprint(\"gradient norm: {:.5f}\".format(g_norm), 'yellow')\n",
    "        optimizer.zero_grad()\n",
    "\n",
    "    else:\n",
    "        optimizer.step()\n",
    "        optimizer.zero_grad()\n",
    "        cprint(\"gradient norm: {:.5f}\".format(g_norm))\n",
    "    print('Train Epoch: {:2d} \\tLoss: {:.5f}'.format(epoch, loss_train))\n",
    "    return loss_train\n"
   ]
  }
 ],
 "metadata": {
  "kernelspec": {
   "display_name": "base",
   "language": "python",
   "name": "python3"
  },
  "language_info": {
   "codemirror_mode": {
    "name": "ipython",
    "version": 3
   },
   "file_extension": ".py",
   "mimetype": "text/x-python",
   "name": "python",
   "nbconvert_exporter": "python",
   "pygments_lexer": "ipython3",
   "version": "3.11.5"
  }
 },
 "nbformat": 4,
 "nbformat_minor": 2
}
